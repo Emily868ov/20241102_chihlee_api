{
 "cells": [
  {
   "cell_type": "code",
   "execution_count": 2,
   "metadata": {},
   "outputs": [
    {
     "ename": "IndentationError",
     "evalue": "expected an indented block after 'while' statement on line 7 (1207285754.py, line 8)",
     "output_type": "error",
     "traceback": [
      "\u001b[0;36m  Cell \u001b[0;32mIn[2], line 8\u001b[0;36m\u001b[0m\n\u001b[0;31m    num = random.randint(1,49)\u001b[0m\n\u001b[0m    ^\u001b[0m\n\u001b[0;31mIndentationError\u001b[0m\u001b[0;31m:\u001b[0m expected an indented block after 'while' statement on line 7\n"
     ]
    }
   ],
   "source": [
    "import random\n",
    "maxCount = 7\n",
    "forCount = 0\n",
    "\n",
    "lotNum = set()\n",
    "\n",
    "while forCount<maxCount:\n",
    "num = random.randint(1,49)\n",
    "lotNum.add(num)\n",
    "forCount = forCount+1\n",
    "\n",
    "if forCount = maxCount-1:\n",
    "        special = random.randint(1,49)\n",
    "\n",
    "        print('本期大樂透電腦選號號碼如下:\\n')\n",
    "        for lot in list(lotNum):\n",
    "            print(lot, blank=\" \")\n",
    "        print('特別號: ')\n",
    "        print(special)"
   ]
  }
 ],
 "metadata": {
  "kernelspec": {
   "display_name": "base",
   "language": "python",
   "name": "python3"
  },
  "language_info": {
   "codemirror_mode": {
    "name": "ipython",
    "version": 3
   },
   "file_extension": ".py",
   "mimetype": "text/x-python",
   "name": "python",
   "nbconvert_exporter": "python",
   "pygments_lexer": "ipython3",
   "version": "3.12.2"
  }
 },
 "nbformat": 4,
 "nbformat_minor": 2
}
