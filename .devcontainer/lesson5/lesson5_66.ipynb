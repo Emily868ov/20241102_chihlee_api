{
 "cells": [
  {
   "cell_type": "code",
   "execution_count": 190,
   "metadata": {},
   "outputs": [
    {
     "name": "stdout",
     "output_type": "stream",
     "text": [
      "本期大樂透電腦選號號碼如下:\n",
      "\n",
      "32 33 35 8 15 21 28 \n",
      "特別號: \n",
      "33\n"
     ]
    }
   ],
   "source": [
    "import random\n",
    "\n",
    "lotNum = set()\n",
    "\n",
    "while len(lotNum)<8:\n",
    "      num = random.randint(1,49)\n",
    "      lotNum.add(num)\n",
    "\n",
    "      if len(lotNum) == 7:\n",
    "         special = random.randint(1,49)\n",
    "\n",
    "         print('本期大樂透電腦選號號碼如下:\\n')\n",
    "         for lot in list(lotNum):\n",
    "             print(lot, end = \" \")\n",
    "         print('\\n特別號: ')\n",
    "         print(special)\n",
    "         break"
   ]
  }
 ],
 "metadata": {
  "kernelspec": {
   "display_name": "base",
   "language": "python",
   "name": "python3"
  },
  "language_info": {
   "codemirror_mode": {
    "name": "ipython",
    "version": 3
   },
   "file_extension": ".py",
   "mimetype": "text/x-python",
   "name": "python",
   "nbconvert_exporter": "python",
   "pygments_lexer": "ipython3",
   "version": "3.12.4"
  }
 },
 "nbformat": 4,
 "nbformat_minor": 2
}
