{
 "cells": [
  {
   "cell_type": "code",
   "execution_count": 44,
   "metadata": {},
   "outputs": [
    {
     "name": "stdout",
     "output_type": "stream",
     "text": [
      "本期大樂透電腦選號號碼如下:\n",
      "\n",
      "2 38 40 48 49 19 特別號: \n",
      "21\n"
     ]
    }
   ],
   "source": [
    "import random\n",
    "maxCount = 7\n",
    "forCount = 0\n",
    "\n",
    "lotNum = set()\n",
    "\n",
    "while forCount<maxCount:\n",
    "      num = random.randint(1,49)\n",
    "      lotNum.add(num)\n",
    "      forCount = forCount+1\n",
    "\n",
    "      if forCount == maxCount-1:\n",
    "         special = random.randint(1,49)\n",
    "\n",
    "         print('本期大樂透電腦選號號碼如下:\\n')\n",
    "         for lot in list(lotNum):\n",
    "             print(lot, end = \" \")\n",
    "         print('特別號: ')\n",
    "         print(special)"
   ]
  }
 ],
 "metadata": {
  "kernelspec": {
   "display_name": "base",
   "language": "python",
   "name": "python3"
  },
  "language_info": {
   "codemirror_mode": {
    "name": "ipython",
    "version": 3
   },
   "file_extension": ".py",
   "mimetype": "text/x-python",
   "name": "python",
   "nbconvert_exporter": "python",
   "pygments_lexer": "ipython3",
   "version": "3.12.2"
  }
 },
 "nbformat": 4,
 "nbformat_minor": 2
}
