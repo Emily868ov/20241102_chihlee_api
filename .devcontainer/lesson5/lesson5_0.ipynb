{
 "cells": [
  {
   "cell_type": "code",
   "execution_count": 4,
   "metadata": {},
   "outputs": [
    {
     "name": "stdout",
     "output_type": "stream",
     "text": [
      "您的BMI是:24.89\n",
      "您的體重是:56.0\n",
      "您的BMI指數:體重過重\n"
     ]
    }
   ],
   "source": [
    "class BMI:\n",
    "    def __init__(self,name:str,height:float,weight:float):\n",
    "        # attribute\n",
    "        self.name = name\n",
    "        self.height = height\n",
    "        self.weight = weight\n",
    "\n",
    "    # instance method\n",
    "    def get_status(self,bmi:float)->str:\n",
    "        outStatus = \"\"        \n",
    "        if bmi >= 35 :\n",
    "            outStatus = '重度肥胖'\n",
    "        elif bmi >= 30 :\n",
    "            outStatus = '中度肥胖'\n",
    "        elif bmi >= 27 :\n",
    "            outStatus = '輕度肥胖'\n",
    "        elif bmi >= 24 :\n",
    "            outStatus = '體重過重'\n",
    "        elif bmi >= 18.5 :\n",
    "            outStatus = '正常範圍'\n",
    "        else :\n",
    "            outStatus = '體重過輕' \n",
    "        \n",
    "        return outStatus\n",
    "    \n",
    "    def get_BMI(self)->float:\n",
    "        return round(self.weight / ((self.height/100)**2), 2)\n",
    "        \n",
    "\n",
    "\n",
    "def main():\n",
    "    while(True):\n",
    "        try:\n",
    "            name = input(\"姓名:\")\n",
    "            height = float(input(\"請輸入身高(公分):\"))\n",
    "            weight = float(input(\"請輸入體重(公斤):\"))\n",
    "            p1 = BMI(name, height, weight)\n",
    "            break\n",
    "        except Exception:\n",
    "            print('輸入格式錯誤,請重新輸入!')\n",
    "        \n",
    "    bmi = p1.get_BMI()\n",
    "    print(f'您的BMI是:{bmi}')\n",
    "    print(f'您的體重是:{weight}')\n",
    "    print(f'您的BMI指數:{p1.get_status(bmi)}')\n",
    "\n",
    "if __name__ == '__main__':\n",
    "    main()"
   ]
  },
  {
   "cell_type": "code",
   "execution_count": null,
   "metadata": {},
   "outputs": [
    {
     "data": {
      "text/plain": [
       "([1, 2, 3, 4, 5, 6, 7, 8, 9], list)"
      ]
     },
     "execution_count": 6,
     "metadata": {},
     "output_type": "execute_result"
    }
   ],
   "source": [
    "ers#list\n",
    "numbers:list=list(range(1,10))\n",
    "numbers,type(numb)"
   ]
  },
  {
   "cell_type": "code",
   "execution_count": 7,
   "metadata": {},
   "outputs": [
    {
     "data": {
      "text/plain": [
       "([], type)"
      ]
     },
     "execution_count": 7,
     "metadata": {},
     "output_type": "execute_result"
    }
   ],
   "source": [
    "numbers1:list=list()\n",
    "numbers1, type(list)"
   ]
  },
  {
   "cell_type": "code",
   "execution_count": 9,
   "metadata": {},
   "outputs": [
    {
     "data": {
      "text/plain": [
       "[]"
      ]
     },
     "execution_count": 9,
     "metadata": {},
     "output_type": "execute_result"
    }
   ],
   "source": [
    "[]"
   ]
  },
  {
   "cell_type": "code",
   "execution_count": 10,
   "metadata": {},
   "outputs": [
    {
     "data": {
      "text/plain": [
       "(1, 10, 100)"
      ]
     },
     "execution_count": 10,
     "metadata": {},
     "output_type": "execute_result"
    }
   ],
   "source": [
    "numbers2=[1,10,100]\n",
    "numbers2,len(numbers2)\n",
    "numbers2[0],numbers2[1],numbers2[2]\n",
    "#numbers2[3]"
   ]
  },
  {
   "cell_type": "code",
   "execution_count": 15,
   "metadata": {},
   "outputs": [],
   "source": [
    "max=None\n",
    "for element in numbers2:\n",
    "    if max is None:\n",
    "        max=element\n",
    "    elif max<element:\n",
    "        max=element\n",
    "        max"
   ]
  },
  {
   "cell_type": "code",
   "execution_count": 16,
   "metadata": {},
   "outputs": [
    {
     "data": {
      "text/plain": [
       "100"
      ]
     },
     "execution_count": 16,
     "metadata": {},
     "output_type": "execute_result"
    }
   ],
   "source": [
    "max = numbers2[0]\n",
    "for element in numbers2[1:]:\n",
    "    if max < element:\n",
    "        max = element\n",
    "max"
   ]
  },
  {
   "cell_type": "code",
   "execution_count": 17,
   "metadata": {},
   "outputs": [
    {
     "data": {
      "text/plain": [
       "([1, 10], [1, 10, 100], [1, 10, 100])"
      ]
     },
     "execution_count": 17,
     "metadata": {},
     "output_type": "execute_result"
    }
   ],
   "source": [
    "numbers2 = [1, 10, 100, 127, 91, 85]\n",
    "numbers2[0:2], numbers2[0:3], numbers2[:3]"
   ]
  },
  {
   "cell_type": "code",
   "execution_count": 18,
   "metadata": {},
   "outputs": [
    {
     "data": {
      "text/plain": [
       "(85, 91, 127)"
      ]
     },
     "execution_count": 18,
     "metadata": {},
     "output_type": "execute_result"
    }
   ],
   "source": [
    "numbers2 = [1, 10, 100, 127, 91, 85]\n",
    "numbers2[-1], numbers2[-2], numbers2[-3]"
   ]
  },
  {
   "cell_type": "code",
   "execution_count": 19,
   "metadata": {},
   "outputs": [
    {
     "data": {
      "text/plain": [
       "([127, 91], [127, 91, 85])"
      ]
     },
     "execution_count": 19,
     "metadata": {},
     "output_type": "execute_result"
    }
   ],
   "source": [
    "numbers2 = [1, 10, 100, 127, 91, 85]\n",
    "numbers2[-3:-1],numbers2[-3:]"
   ]
  }
 ],
 "metadata": {
  "kernelspec": {
   "display_name": "base",
   "language": "python",
   "name": "python3"
  },
  "language_info": {
   "codemirror_mode": {
    "name": "ipython",
    "version": 3
   },
   "file_extension": ".py",
   "mimetype": "text/x-python",
   "name": "python",
   "nbconvert_exporter": "python",
   "pygments_lexer": "ipython3",
   "version": "3.12.2"
  }
 },
 "nbformat": 4,
 "nbformat_minor": 2
}
